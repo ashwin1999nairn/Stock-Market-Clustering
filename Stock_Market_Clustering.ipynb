{
 "cells": [
  {
   "cell_type": "markdown",
   "metadata": {
    "id": "ozWBrRMqJFbP"
   },
   "source": [
    "# **STOCK MARKET CLUSTERING**"
   ]
  },
  {
   "cell_type": "markdown",
   "metadata": {
    "id": "Om3bg3__JHuP"
   },
   "source": [
    "In this project we will be extracting live Stock Market data from yahoo finance. We will find similarities amongst various companies using their stock stock market prices and then cluster them into different clusters using the K-means algorithm.\n",
    "\n",
    "Note that this is an unsuppervised machine learning problem and will use an unsuppervised machine learning technique with the help of the K-means algorithm.\n",
    "\n",
    "NB: \"pandas_datareader\" extract data from variouse internet sources into a Dataframe. Curently the following sources are supported\n",
    "\n",
    "\n",
    "*   Yahoo! Finance\n",
    "*   Google Finance\n",
    "*  St. Louis FED (FRED)\n",
    "* Kenneth French's data library\n",
    "* World Bank\n",
    "* Google Analytics\n",
    "\n"
   ]
  },
  {
   "cell_type": "code",
   "execution_count": null,
   "metadata": {
    "colab": {
     "base_uri": "https://localhost:8080/"
    },
    "id": "70h4bmqPJBEP",
    "outputId": "cb3709c8-2fe7-4063-cc42-6891867ef29b"
   },
   "outputs": [],
   "source": [
    "!pip install pandas_datareader"
   ]
  },
  {
   "cell_type": "code",
   "execution_count": null,
   "metadata": {
    "colab": {
     "base_uri": "https://localhost:8080/"
    },
    "id": "oZsDo1i8LoQ_",
    "outputId": "6e2661ab-057e-4b8b-97e2-bbd52379ade7"
   },
   "outputs": [],
   "source": [
    "!pip install plotly"
   ]
  },
  {
   "cell_type": "code",
   "execution_count": null,
   "metadata": {
    "id": "J4FnhvwIL8RG"
   },
   "outputs": [],
   "source": [
    "from pandas_datareader import data\n",
    "import matplotlib.pyplot as plt\n",
    "import pandas as pd\n",
    "import numpy as np\n",
    "import datetime\n",
    "import warnings\n",
    "warnings.simplefilter('ignore')"
   ]
  },
  {
   "cell_type": "code",
   "execution_count": null,
   "metadata": {
    "id": "FL0f2dL2Nrum"
   },
   "outputs": [],
   "source": [
    "companies_dict = {\n",
    "    'Amazon':'AMZN',\n",
    "    'Apple':'AAPL',\n",
    "    'Walgreen':'WBA',\n",
    "    'Northrop Grumman':'NOC',\n",
    "    'Boeing':'BA',\n",
    "    'Lockheed Martin':'LMT',\n",
    "    'McDonalds':'MCD',\n",
    "    'Intel':'INTC',\n",
    "    'Rayheon':'RTX',\n",
    "    'IBM':'IBM',\n",
    "    'Texas Instruments':'TXN',\n",
    "    'MasterCard':'MA',\n",
    "    'Microsoft':'MSFT',\n",
    "    'General Electrics':'GE',\n",
    "    'Tesla':\"TSLA\",\n",
    "    'American Express':'AXP',\n",
    "    'Pepsi':'PEP',\n",
    "    'Coca Cola':'KO',\n",
    "    'Johnson & Johnson':'JNJ',\n",
    "    'Toyota':'TM',\n",
    "    'Honda':'HMC',\n",
    "    'L3Harris':'LHX',\n",
    "    'General Dynamics':\"GD\",\n",
    "    'Exxon':'XOM',\n",
    "    'Chevron':'CVX',\n",
    "    'Valero Energy':'VLO',\n",
    "    'Ford':'F',\n",
    "    'Bank of America':'BAC'}"
   ]
  },
  {
   "cell_type": "code",
   "execution_count": null,
   "metadata": {
    "colab": {
     "base_uri": "https://localhost:8080/"
    },
    "id": "Y_qNKRD4a27M",
    "outputId": "c4b0f3f1-b1f9-4cf1-95df-23bb0e28e61f"
   },
   "outputs": [],
   "source": [
    "!pip install yfinance"
   ]
  },
  {
   "cell_type": "code",
   "execution_count": null,
   "metadata": {
    "colab": {
     "base_uri": "https://localhost:8080/"
    },
    "id": "2Fe05SxxWNp2",
    "outputId": "15ec7844-db6f-4cfb-c470-91650a874d1b"
   },
   "outputs": [],
   "source": [
    "from pandas_datareader import data as pdr\n",
    "import yfinance as yf\n",
    "yf.pdr_override()\n",
    "from datetime import datetime\n",
    "startdate = datetime(2018,7,1)\n",
    "enddate = datetime(2023,7,1)\n",
    "df = pdr.get_data_yahoo(list(companies_dict.values()), start=startdate, end=enddate)"
   ]
  },
  {
   "cell_type": "code",
   "execution_count": null,
   "metadata": {
    "colab": {
     "base_uri": "https://localhost:8080/",
     "height": 724
    },
    "id": "YN6die_Ja-Wr",
    "outputId": "e27073ad-c1a4-4671-ac41-046f2fd443c7"
   },
   "outputs": [],
   "source": [
    "df"
   ]
  },
  {
   "cell_type": "code",
   "execution_count": null,
   "metadata": {
    "colab": {
     "base_uri": "https://localhost:8080/"
    },
    "id": "kG3IGSfYd3OO",
    "outputId": "a2c85c51-1b8c-4e48-acb8-e63673a781f7"
   },
   "outputs": [],
   "source": [
    "df.isnull().sum()"
   ]
  },
  {
   "cell_type": "code",
   "execution_count": null,
   "metadata": {
    "colab": {
     "base_uri": "https://localhost:8080/"
    },
    "id": "qE1mpD8U5s0D",
    "outputId": "cafb8813-cfee-4c7d-ff17-05a5404b45d8"
   },
   "outputs": [],
   "source": [
    "df.isnull().sum().sum()"
   ]
  },
  {
   "cell_type": "code",
   "execution_count": null,
   "metadata": {
    "id": "RjUG3EwA51Dc"
   },
   "outputs": [],
   "source": [
    "stock_open=np.array(df['Open']).T\n",
    "stock_close=np.array(df['Close']).T"
   ]
  },
  {
   "cell_type": "code",
   "execution_count": null,
   "metadata": {
    "id": "BfBWZrI16E35"
   },
   "outputs": [],
   "source": [
    "## Movements is the difference between opening and closing prices of a particular day, Positive movement suggests go long on stock(buy) and negative movement suggests to short the stock(sell)\n",
    "movements=stock_close-stock_open"
   ]
  },
  {
   "cell_type": "code",
   "execution_count": null,
   "metadata": {
    "id": "xxOZE9a27AOH"
   },
   "outputs": [],
   "source": [
    "sum_of_movement=np.sum(movements,1) ## Sum of difference of closing and opening prices of all days"
   ]
  },
  {
   "cell_type": "code",
   "execution_count": null,
   "metadata": {
    "colab": {
     "base_uri": "https://localhost:8080/"
    },
    "id": "06ofzZ8S7eNc",
    "outputId": "f038e4e3-3bb3-4a37-b8b9-d079e58491a1"
   },
   "outputs": [],
   "source": [
    "for i in range(len(companies_dict)):\n",
    "  print(\"Company:{}, Change:{}\".format(df['High'].columns[i],sum_of_movement[i]))"
   ]
  },
  {
   "cell_type": "code",
   "execution_count": null,
   "metadata": {
    "colab": {
     "base_uri": "https://localhost:8080/",
     "height": 635
    },
    "id": "xPOJDjiQ8KNs",
    "outputId": "2043cb82-33dd-4165-d201-31d71b5f5e94"
   },
   "outputs": [],
   "source": [
    "plt.figure(figsize=(25,10))\n",
    "\n",
    "plt.subplot(1,2,1)\n",
    "plt.title(\"Amazon\", fontsize=20)\n",
    "plt.xticks(fontsize=10)\n",
    "plt.yticks(fontsize=20)\n",
    "plt.xlabel('Date',fontsize=15)\n",
    "plt.ylabel('Opening Price',fontsize=15)\n",
    "plt.plot(df['Open']['AMZN'])\n",
    "\n",
    "plt.subplot(1,2,2)\n",
    "plt.title(\"Apple\", fontsize=20)\n",
    "plt.xticks(fontsize=10)\n",
    "plt.yticks(fontsize=20)\n",
    "plt.xlabel('Date',fontsize=15)\n",
    "plt.ylabel('Opening Price',fontsize=15)\n",
    "plt.plot(df['Open']['AAPL'])\n",
    "\n"
   ]
  },
  {
   "cell_type": "code",
   "execution_count": null,
   "metadata": {
    "colab": {
     "base_uri": "https://localhost:8080/",
     "height": 1000
    },
    "id": "L5DJrGJwPxNy",
    "outputId": "84129134-439b-413f-fe28-b67044d22d87"
   },
   "outputs": [],
   "source": [
    "## Seeing the trends for each company\n",
    "for i,j in companies_dict.items():\n",
    "  plt.figure(figsize=(25,10))\n",
    "  plt.title(i)\n",
    "  plt.xticks(fontsize=10)\n",
    "  plt.yticks(fontsize=20)\n",
    "  plt.xlabel('Date',fontsize=15)\n",
    "  plt.ylabel('Opening Price',fontsize=15)\n",
    "  plt.plot(df['Open'][j])"
   ]
  },
  {
   "cell_type": "code",
   "execution_count": null,
   "metadata": {
    "colab": {
     "base_uri": "https://localhost:8080/",
     "height": 1000
    },
    "id": "HpVCxLb9UxMb",
    "outputId": "d6ba1e21-26b8-478f-89c5-1f9a57976dc0"
   },
   "outputs": [],
   "source": [
    "for i,j in companies_dict.items():\n",
    "  plt.figure(figsize=(20,10))\n",
    "  plt.title(i + \" Opening vs Closing Price\")\n",
    "  plt.xlabel('Date')\n",
    "  plt.ylabel('Price')\n",
    "  plt.plot(df['Open'][j], label='Open')\n",
    "  plt.plot(df['Close'][j], label='Close')\n",
    "  plt.legend(loc='upper left')"
   ]
  },
  {
   "cell_type": "code",
   "execution_count": null,
   "metadata": {
    "id": "26YAhsj8b6G3"
   },
   "outputs": [],
   "source": [
    "movements_1=df['Close']-df['Open']"
   ]
  },
  {
   "cell_type": "code",
   "execution_count": null,
   "metadata": {
    "colab": {
     "base_uri": "https://localhost:8080/",
     "height": 692
    },
    "id": "HhAEiNcxdJtd",
    "outputId": "48f80939-1609-49cd-ea04-6ef89c6fa1f6"
   },
   "outputs": [],
   "source": [
    "movements_1"
   ]
  },
  {
   "cell_type": "code",
   "execution_count": null,
   "metadata": {
    "colab": {
     "base_uri": "https://localhost:8080/",
     "height": 1000
    },
    "id": "rUnRySJVdLIv",
    "outputId": "559e9e38-ab47-4adb-ab6e-59b6915374d2"
   },
   "outputs": [],
   "source": [
    "for i,j in companies_dict.items():\n",
    "  plt.figure(figsize=(20,18))\n",
    "  plt.title(i + \" Movement\")\n",
    "  plt.xlabel('Date')\n",
    "  plt.ylabel('Movement')\n",
    "  plt.plot(movements_1[j])"
   ]
  },
  {
   "cell_type": "code",
   "execution_count": null,
   "metadata": {
    "colab": {
     "base_uri": "https://localhost:8080/",
     "height": 1000
    },
    "id": "zaWBJYN8dnVY",
    "outputId": "76c693b9-8218-4469-8764-257dcc59343d"
   },
   "outputs": [],
   "source": [
    "## Volume of stock traded\n",
    "for i,j in companies_dict.items():\n",
    "  plt.figure(figsize=(20,10))\n",
    "  plt.title(i)\n",
    "  plt.xlabel(\"Date\")\n",
    "  plt.ylabel(\"Volume\")\n",
    "  plt.plot(df['Volume'][j])"
   ]
  },
  {
   "cell_type": "markdown",
   "metadata": {
    "id": "dpw4a7J2YAMs"
   },
   "source": [
    "## Normalization\n",
    "Rate of change of Stock Prices are having different scales, therefore we need to normalize our data in order to have consistency for further analysis"
   ]
  },
  {
   "cell_type": "code",
   "execution_count": null,
   "metadata": {
    "id": "DT6pQJuje1mS"
   },
   "outputs": [],
   "source": [
    "from sklearn.preprocessing import Normalizer\n",
    "normalizer=Normalizer()\n",
    "norm_movements=normalizer.fit_transform(movements_1)"
   ]
  },
  {
   "cell_type": "code",
   "execution_count": null,
   "metadata": {
    "colab": {
     "base_uri": "https://localhost:8080/"
    },
    "id": "GxrMbQ0DZqrW",
    "outputId": "237d642d-69de-4794-ac57-defdc023ffb8"
   },
   "outputs": [],
   "source": [
    "norm_movements"
   ]
  },
  {
   "cell_type": "code",
   "execution_count": null,
   "metadata": {
    "id": "wR2G9C-6Zw3l"
   },
   "outputs": [],
   "source": [
    "norm_movements_df=pd.DataFrame(norm_movements, columns=movements_1.columns,index = movements_1.index )"
   ]
  },
  {
   "cell_type": "code",
   "execution_count": null,
   "metadata": {
    "colab": {
     "base_uri": "https://localhost:8080/",
     "height": 692
    },
    "id": "i6ceE397Z6mI",
    "outputId": "3cf4a5b3-daff-456a-8358-b721dbfc42b5"
   },
   "outputs": [],
   "source": [
    "norm_movements_df"
   ]
  },
  {
   "cell_type": "code",
   "execution_count": null,
   "metadata": {
    "colab": {
     "base_uri": "https://localhost:8080/",
     "height": 1000
    },
    "id": "wlf6OW_6beTU",
    "outputId": "e6732c93-222b-4a92-992f-68dbf5887763"
   },
   "outputs": [],
   "source": [
    "## Movements across various companies after normalization\n",
    "for i,j in companies_dict.items():\n",
    "  plt.figure(figsize=(20,18))\n",
    "  plt.title(i + \" Movement\")\n",
    "  plt.xlabel('Date')\n",
    "  plt.ylabel('Movement')\n",
    "  plt.plot(norm_movements_df[j])"
   ]
  },
  {
   "cell_type": "markdown",
   "metadata": {
    "id": "swTpwamfdoad"
   },
   "source": [
    "## Making a Pipeline"
   ]
  },
  {
   "cell_type": "code",
   "execution_count": null,
   "metadata": {
    "id": "ICTGAqPbc-tq"
   },
   "outputs": [],
   "source": [
    "from sklearn.pipeline import make_pipeline\n",
    "from sklearn.preprocessing import Normalizer\n",
    "from sklearn.cluster import KMeans"
   ]
  },
  {
   "cell_type": "code",
   "execution_count": null,
   "metadata": {
    "id": "A4Xo0JgVeXh5"
   },
   "outputs": [],
   "source": [
    "normalizer=Normalizer()"
   ]
  },
  {
   "cell_type": "code",
   "execution_count": null,
   "metadata": {
    "id": "jixpX8D7ed2h"
   },
   "outputs": [],
   "source": [
    "kmeans=KMeans(n_clusters=5, max_iter=1000, random_state=42)"
   ]
  },
  {
   "cell_type": "code",
   "execution_count": null,
   "metadata": {
    "id": "7axCXK4aeo3f"
   },
   "outputs": [],
   "source": [
    "## Making a pipleline combining our normalizer and KMeans\n",
    "pipeline=make_pipeline(normalizer,kmeans)"
   ]
  },
  {
   "cell_type": "code",
   "execution_count": null,
   "metadata": {
    "colab": {
     "base_uri": "https://localhost:8080/",
     "height": 125
    },
    "id": "PdJXDVgCe0e2",
    "outputId": "1ee6b376-5f0e-4b08-faf9-b07d9ea36ff1"
   },
   "outputs": [],
   "source": [
    "## Fit Pipeline to daily stock movements created earlier\n",
    "pipeline.fit(movements)"
   ]
  },
  {
   "cell_type": "code",
   "execution_count": null,
   "metadata": {
    "id": "gSQr6ShjfIci"
   },
   "outputs": [],
   "source": [
    "predictions=pipeline.predict(movements)"
   ]
  },
  {
   "cell_type": "code",
   "execution_count": null,
   "metadata": {
    "colab": {
     "base_uri": "https://localhost:8080/"
    },
    "id": "NdJL1QFRfN37",
    "outputId": "6f2cc27a-d4b3-4608-8251-794189093cd2"
   },
   "outputs": [],
   "source": [
    "predictions"
   ]
  },
  {
   "cell_type": "markdown",
   "metadata": {
    "id": "Z3o-IcsogF5S"
   },
   "source": [
    "The companies and their respective classes are displayed below"
   ]
  },
  {
   "cell_type": "code",
   "execution_count": null,
   "metadata": {
    "id": "mOtipHWVfoIf"
   },
   "outputs": [],
   "source": [
    "df_1=pd.DataFrame({\"Cluster\":predictions,'Companies':list(companies_dict)})"
   ]
  },
  {
   "cell_type": "code",
   "execution_count": null,
   "metadata": {
    "colab": {
     "base_uri": "https://localhost:8080/",
     "height": 927
    },
    "id": "Pa5MqQ0xgfGu",
    "outputId": "1d364b65-169f-456c-850f-7d6f7863d642"
   },
   "outputs": [],
   "source": [
    "df_1"
   ]
  },
  {
   "cell_type": "markdown",
   "metadata": {
    "id": "fm2pbTunhewJ"
   },
   "source": [
    "## The Elbow Method"
   ]
  },
  {
   "cell_type": "code",
   "execution_count": null,
   "metadata": {
    "id": "Cc9Ubd5yg8uv"
   },
   "outputs": [],
   "source": [
    "norm_data=normalizer.fit_transform(movements)"
   ]
  },
  {
   "cell_type": "code",
   "execution_count": null,
   "metadata": {
    "id": "rLbQdyHAirWj"
   },
   "outputs": [],
   "source": [
    "lst=[]\n",
    "for i in range(1,11):\n",
    "    kmodel=KMeans(n_clusters=i,n_init=15,max_iter=500)\n",
    "    kmodel.fit(norm_data)\n",
    "    lst.append(kmodel.inertia_)"
   ]
  },
  {
   "cell_type": "code",
   "execution_count": null,
   "metadata": {
    "colab": {
     "base_uri": "https://localhost:8080/"
    },
    "id": "ioh0JYF2ja4W",
    "outputId": "b725a309-dde2-4fb9-edf5-2ce34a10afbb"
   },
   "outputs": [],
   "source": [
    "lst"
   ]
  },
  {
   "cell_type": "code",
   "execution_count": null,
   "metadata": {
    "colab": {
     "base_uri": "https://localhost:8080/",
     "height": 447
    },
    "id": "Oy-lzLr-jcn4",
    "outputId": "2c1b9286-94d6-4c78-f830-1201fa5a2224"
   },
   "outputs": [],
   "source": [
    "plt.plot(range(1,11),lst,marker='o')"
   ]
  },
  {
   "cell_type": "markdown",
   "metadata": {
    "id": "Ex3EZgjHjwcX"
   },
   "source": [
    "We can see that 5 here is the best case scenario, hence we dont need to change our model"
   ]
  },
  {
   "cell_type": "code",
   "execution_count": null,
   "metadata": {
    "colab": {
     "base_uri": "https://localhost:8080/",
     "height": 143
    },
    "id": "Ue1tieg8jfVl",
    "outputId": "721cc41f-0398-4063-e6fa-37b4491894c9"
   },
   "outputs": [],
   "source": [
    "df_1[df_1['Cluster']==0]"
   ]
  },
  {
   "cell_type": "code",
   "execution_count": null,
   "metadata": {
    "colab": {
     "base_uri": "https://localhost:8080/",
     "height": 237
    },
    "id": "W6gZqSIFj85D",
    "outputId": "1001ef59-0ad2-4e41-e62e-735237dbe809"
   },
   "outputs": [],
   "source": [
    "df_1[df_1['Cluster']==1]"
   ]
  },
  {
   "cell_type": "code",
   "execution_count": null,
   "metadata": {
    "colab": {
     "base_uri": "https://localhost:8080/",
     "height": 206
    },
    "id": "tiQwheQdj--F",
    "outputId": "d3545a4e-f1e6-416d-b955-7b027932b12b"
   },
   "outputs": [],
   "source": [
    "df_1[df_1['Cluster']==2]"
   ]
  },
  {
   "cell_type": "code",
   "execution_count": null,
   "metadata": {
    "colab": {
     "base_uri": "https://localhost:8080/",
     "height": 363
    },
    "id": "yZcjvyAFj_rb",
    "outputId": "f3acc9e9-8def-4afd-f5b0-1f04cd6c7208"
   },
   "outputs": [],
   "source": [
    "df_1[df_1['Cluster']==3]"
   ]
  },
  {
   "cell_type": "code",
   "execution_count": null,
   "metadata": {
    "colab": {
     "base_uri": "https://localhost:8080/",
     "height": 175
    },
    "id": "T62tmqtukAbn",
    "outputId": "50d4fc02-6ae0-45ed-b001-c60e2707dbdb"
   },
   "outputs": [],
   "source": [
    "df_1[df_1['Cluster']==4]"
   ]
  },
  {
   "cell_type": "markdown",
   "metadata": {
    "id": "9iL8OdWfpYak"
   },
   "source": [
    "## PCA"
   ]
  },
  {
   "cell_type": "code",
   "execution_count": null,
   "metadata": {
    "id": "xHqEWESMpakF"
   },
   "outputs": [],
   "source": [
    "from sklearn.decomposition import PCA\n",
    "# Define a normalizer\n",
    "normalizer = Normalizer()\n",
    "# Reduce the data\n",
    "reduced_data = PCA(n_components = 2)\n",
    "# Create Kmeans model\n",
    "kmeans = KMeans(n_clusters = 5,max_iter = 1000)\n",
    "# Make a pipeline chaining normalizer, pca and kmeans\n",
    "pipeline = make_pipeline(normalizer,reduced_data,kmeans)\n",
    "# Fit pipeline to daily stock movements\n",
    "pipeline.fit(movements)\n",
    "# Prediction\n",
    "predictions = pipeline.predict(movements)\n",
    "# Create dataframe to store companies and predicted labels\n",
    "df2 = pd.DataFrame({'labels':predictions,'companies':list(companies_dict.keys())}).sort_values(by=['labels'],axis = 0)"
   ]
  },
  {
   "cell_type": "code",
   "execution_count": null,
   "metadata": {
    "colab": {
     "base_uri": "https://localhost:8080/",
     "height": 927
    },
    "id": "ICEpMoqZqBwS",
    "outputId": "214083c2-f6f7-4bed-de0a-e8689b48f4e1"
   },
   "outputs": [],
   "source": [
    "df2"
   ]
  },
  {
   "cell_type": "code",
   "execution_count": null,
   "metadata": {
    "colab": {
     "base_uri": "https://localhost:8080/",
     "height": 870
    },
    "id": "bNs9g8VyltG1",
    "outputId": "647c5e8e-bf11-4888-d3ff-cf6385bb9f58"
   },
   "outputs": [],
   "source": [
    "from sklearn.decomposition import PCA\n",
    "# Reduce the data\n",
    "reduced_data = PCA(n_components = 2).fit_transform(norm_data)\n",
    "# Define step size of mesh\n",
    "h = 0.01\n",
    "# Plot the decision boundary\n",
    "x_min,x_max = reduced_data[:,0].min()-1, reduced_data[:,0].max() + 1\n",
    "y_min,y_max = reduced_data[:,1].min()-1, reduced_data[:,1].max() + 1\n",
    "xx,yy = np.meshgrid(np.arange(x_min,x_max,h),np.arange(y_min,y_max,h))\n",
    "# Obtain labels for each point in the mesh using our trained model\n",
    "Z = kmeans.predict(np.c_[xx.ravel(),yy.ravel()])\n",
    "# Put the result into a color plot\n",
    "Z = Z.reshape(xx.shape)\n",
    "# Define color plot\n",
    "cmap = plt.cm.Paired\n",
    "# Plotting figure\n",
    "plt.clf()\n",
    "plt.figure(figsize=(10,10))\n",
    "plt.imshow(Z,interpolation = 'nearest',extent=(xx.min(),xx.max(),yy.min(),yy.max()),cmap = cmap,aspect = 'auto',origin = 'lower')\n",
    "plt.plot(reduced_data[:,0],reduced_data[:,1],'k.',markersize = 5)\n",
    "# Plot the centroid of each cluster as a white X\n",
    "centroids = kmeans.cluster_centers_\n",
    "plt.scatter(centroids[:,0],centroids[:,1],marker = 'x',s = 169,linewidths = 3,color = 'w',zorder = 10)\n",
    "plt.title('K-Means clustering on stock market movements (PCA-Reduced data)')\n",
    "plt.xlim(x_min,x_max)\n",
    "plt.ylim(y_min,y_max)\n",
    "plt.show()"
   ]
  },
  {
   "cell_type": "code",
   "execution_count": null,
   "metadata": {
    "id": "VnkgXAOxpEc8"
   },
   "outputs": [],
   "source": []
  }
 ],
 "metadata": {
  "colab": {
   "provenance": []
  },
  "kernelspec": {
   "display_name": "Python 3 (ipykernel)",
   "language": "python",
   "name": "python3"
  },
  "language_info": {
   "codemirror_mode": {
    "name": "ipython",
    "version": 3
   },
   "file_extension": ".py",
   "mimetype": "text/x-python",
   "name": "python",
   "nbconvert_exporter": "python",
   "pygments_lexer": "ipython3",
   "version": "3.8.8"
  }
 },
 "nbformat": 4,
 "nbformat_minor": 1
}
